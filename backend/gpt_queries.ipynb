{
 "cells": [
  {
   "cell_type": "code",
   "execution_count": 12,
   "metadata": {},
   "outputs": [
    {
     "name": "stdout",
     "output_type": "stream",
     "text": [
      "Requirement already satisfied: openai==0.28 in /home/rmysore/.local/lib/python3.8/site-packages (0.28.0)\n",
      "Requirement already satisfied: tqdm in /home/rmysore/.local/lib/python3.8/site-packages (from openai==0.28) (4.66.1)\n",
      "Requirement already satisfied: aiohttp in /home/rmysore/.local/lib/python3.8/site-packages (from openai==0.28) (3.9.3)\n",
      "Requirement already satisfied: requests>=2.20 in /home/rmysore/.local/lib/python3.8/site-packages (from openai==0.28) (2.31.0)\n",
      "Requirement already satisfied: aiosignal>=1.1.2 in /home/rmysore/.local/lib/python3.8/site-packages (from aiohttp->openai==0.28) (1.3.1)\n",
      "Requirement already satisfied: multidict<7.0,>=4.5 in /home/rmysore/.local/lib/python3.8/site-packages (from aiohttp->openai==0.28) (6.0.5)\n",
      "Requirement already satisfied: async-timeout<5.0,>=4.0; python_version < \"3.11\" in /home/rmysore/.local/lib/python3.8/site-packages (from aiohttp->openai==0.28) (4.0.3)\n",
      "Requirement already satisfied: attrs>=17.3.0 in /home/rmysore/.local/lib/python3.8/site-packages (from aiohttp->openai==0.28) (23.2.0)\n",
      "Requirement already satisfied: yarl<2.0,>=1.0 in /home/rmysore/.local/lib/python3.8/site-packages (from aiohttp->openai==0.28) (1.9.4)\n",
      "Requirement already satisfied: frozenlist>=1.1.1 in /home/rmysore/.local/lib/python3.8/site-packages (from aiohttp->openai==0.28) (1.4.1)\n",
      "Requirement already satisfied: certifi>=2017.4.17 in /usr/lib/python3/dist-packages (from requests>=2.20->openai==0.28) (2019.11.28)\n",
      "Requirement already satisfied: urllib3<3,>=1.21.1 in /usr/lib/python3/dist-packages (from requests>=2.20->openai==0.28) (1.25.8)\n",
      "Requirement already satisfied: charset-normalizer<4,>=2 in /home/rmysore/.local/lib/python3.8/site-packages (from requests>=2.20->openai==0.28) (3.3.2)\n",
      "Requirement already satisfied: idna<4,>=2.5 in /usr/lib/python3/dist-packages (from requests>=2.20->openai==0.28) (2.8)\n"
     ]
    }
   ],
   "source": [
    "!pip install openai==0.28"
   ]
  },
  {
   "cell_type": "code",
   "execution_count": 13,
   "metadata": {},
   "outputs": [],
   "source": [
    "import os\n",
    "import openai"
   ]
  },
  {
   "cell_type": "code",
   "execution_count": 14,
   "metadata": {},
   "outputs": [],
   "source": [
    "openai.api_type = \"azure\"\n",
    "openai.api_base = os.getenv(\"OPENAI_API_BASE\")\n",
    "openai.api_version = \"2023-09-01-preview\"\n",
    "openai.api_key = os.getenv(\"OPENAI_API_KEY\")"
   ]
  },
  {
   "cell_type": "code",
   "execution_count": 15,
   "metadata": {},
   "outputs": [],
   "source": [
    "def generate_response(messages):\n",
    "    response = openai.ChatCompletion.create(\n",
    "        # engine=\"LLM-research\",\n",
    "        engine=\"LLM-research-16k\",\n",
    "        # model=\"gpt-3.5-turbo\",\n",
    "        messages=messages\n",
    "    )\n",
    "   \n",
    "    # Access the content key safely\n",
    "    choices = response[\"choices\"]\n",
    "    if choices and len(choices) > 0:\n",
    "        choice = choices[0]\n",
    "        message = choice.get(\"message\")\n",
    "        if message:\n",
    "            content = message.get(\"content\")\n",
    "            if content:\n",
    "                return content\n",
    "    \n",
    "    return \"Error: Content not found in the response.\""
   ]
  },
  {
   "cell_type": "code",
   "execution_count": 16,
   "metadata": {},
   "outputs": [],
   "source": [
    "system_prompt = '''You are an email parser who parses Job applications emails and outputs the name of the company, role/position, status of the application in a json format.\n",
    "The only statuses that you are allowed to output are - Applied, Pending, Rejected and Accepted.\n",
    "The only response json fields that you are allowed to use are - company, role, status. \n",
    "'''\n",
    "\n",
    "conversation = [\n",
    "    {\"role\": \"system\", \"content\": system_prompt }\n",
    "]"
   ]
  },
  {
   "cell_type": "code",
   "execution_count": 17,
   "metadata": {},
   "outputs": [],
   "source": [
    "email = '''Dear Rahul ,\n",
    "\n",
    "Thank you for your interest in Intel. We received your application, or you were recommended, to the following position:\n",
    "\n",
    "Position: Open Source Software Development Intern\n",
    "Application Date: 2023 Dec 23\n",
    "\n",
    "We have reviewed your application and, unfortunately, we have decided to move forward with another applicant for this position.\n",
    "\n",
    "Stay connected with us. If you have not already done so, we encourage you to join our Talent Network and continue applying for\n",
    "positions that interest you at Jobs at Intel. We will maintain your information, including your resume/CV or other documentation\n",
    "you provided, in order to consider you for other opportunities that are in line with your skills and experience. Feel free to browse\n",
    "through our Hiring Advice & Tips and Candidate Help sites, too.\n",
    "\n",
    "We thank you again for your interest in Intel and wish you success in your job search.\n",
    "\n",
    "\n",
    "Best regards,\n",
    "The Global Talent Acquisition Team\n",
    "Intel Corporation'''"
   ]
  },
  {
   "cell_type": "code",
   "execution_count": 21,
   "metadata": {},
   "outputs": [],
   "source": [
    "email = '''Hi Rahul,\n",
    "\n",
    "Thank you for applying for the Software Engineering Intern position at SolarWinds!\n",
    "\n",
    "Our hiring team is currently reviewing all applications and we are planning to schedule interviews shortly. If you are among our qualified candidates, you will be contacted by a member of our recruiting team to schedule next steps.\n",
    "\n",
    "In any case, we will keep you posted on the status of your application.\n",
    "\n",
    "In the meantime, here are some resources for you to learn a bit more about us!\n",
    "\n",
    "    About Solarwinds\n",
    "    Solarian Life and Communities\n",
    "    Get to know our Total Reward Philosophy\n",
    "\n",
    "Regards,\n",
    "SolarWinds\n",
    "'''"
   ]
  },
  {
   "cell_type": "code",
   "execution_count": 19,
   "metadata": {},
   "outputs": [],
   "source": [
    "email = '''Dear Rahul: \n",
    "\n",
    "Thank you for your interest regarding Leidos's Job STEM Software Development Intern position. We are grateful for your time.\n",
    "\n",
    "Unfortunately, the team has decided to move in a different direction and we will not be moving further ahead with your application for this specific position at this time.\n",
    "\n",
    "    US Citizenship Requirements\n",
    "    Candidate must be able to obtain an SF-85P Public Trust clearance from the FAA customer.\n",
    "\n",
    "Leidos has other positions available that may fit your skills and interests. We encourage you to look at our career site at www.leidos.com/careers (file://www.leidos.com/careers) to find other career opportunities of interest to you. Also, your career profile will be available to Leidos's Careers team, and we may contact you if we find a position for which you'd be a strong fit.\n",
    "\n",
    "  \n",
    "Thanks again for considering Leidos and its subsidiaries as part of your career search.  Please let me know if I can answer any questions.\n",
    "'''"
   ]
  },
  {
   "cell_type": "code",
   "execution_count": 22,
   "metadata": {},
   "outputs": [
    {
     "name": "stdout",
     "output_type": "stream",
     "text": [
      "{\n",
      "  \"company\": \"SolarWinds\",\n",
      "  \"role\": \"Software Engineering Intern\",\n",
      "  \"status\": \"Pending\"\n",
      "}\n"
     ]
    }
   ],
   "source": [
    "conversation.append({\"role\": \"user\", \"content\": \"extract the required information from thr email content:\\n\" + email})\n",
    "\n",
    "response = generate_response(conversation)\n",
    "print(response)"
   ]
  }
 ],
 "metadata": {
  "kernelspec": {
   "display_name": "Python 3",
   "language": "python",
   "name": "python3"
  },
  "language_info": {
   "codemirror_mode": {
    "name": "ipython",
    "version": 3
   },
   "file_extension": ".py",
   "mimetype": "text/x-python",
   "name": "python",
   "nbconvert_exporter": "python",
   "pygments_lexer": "ipython3",
   "version": "3.8.10"
  }
 },
 "nbformat": 4,
 "nbformat_minor": 2
}
